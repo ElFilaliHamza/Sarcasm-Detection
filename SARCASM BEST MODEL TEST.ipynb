{
 "cells": [
  {
   "cell_type": "code",
   "execution_count": 1,
   "metadata": {},
   "outputs": [],
   "source": [
    "import pandas as pd\n",
    "import numpy as np\n",
    "import torch\n",
    "import demoji\n",
    "import re\n",
    "from sklearn.model_selection import train_test_split \n",
    "from sklearn.metrics import f1_score, accuracy_score, recall_score, classification_report\n",
    "\n",
    "from torch.utils.data import Dataset\n",
    "import torch.nn.functional as F\n",
    "\n",
    "from transformers import pipeline \n",
    "from transformers import DistilBertTokenizerFast, DistilBertForSequenceClassification\n",
    "from transformers import BertTokenizer,BertForSequenceClassification\n",
    "from transformers import AutoTokenizer,AutoModelForSequenceClassification\n",
    "from transformers import Trainer, TrainingArguments"
   ]
  },
  {
   "attachments": {},
   "cell_type": "markdown",
   "metadata": {},
   "source": [
    "### Text Preprocessing Befor tokenization "
   ]
  },
  {
   "cell_type": "code",
   "execution_count": 2,
   "metadata": {},
   "outputs": [],
   "source": [
    "# 0.54\n",
    "import string\n",
    "\n",
    "def clean_tags_links(text):\n",
    "    new_text = []\n",
    "    for t in text.split(\" \"):\n",
    "        t = '@user' if t.startswith('@') and len(t) > 2 else t\n",
    "        # t = 'http' if t.startswith('http') else t\n",
    "        new_text.append(t)\n",
    "    return \" \".join(new_text)\n",
    "def pre_process(text):\n",
    "    text = text.replace('\\\\n', ' ').replace('\\n', ' ')\n",
    "    text = demoji.replace_with_desc(text) \n",
    "    \n",
    "    link_regex = re.compile(r'https?://[^\\s]+')\n",
    "    text = link_regex.sub(':http:', text)\n",
    "    text = re.sub(r'\\s+', r' ', text)\n",
    "    return text\n",
    "def clean_text_data(text_data):\n",
    "    for i, text in enumerate(text_data):\n",
    "        try:\n",
    "            text_data[i] = pre_process(text)\n",
    "        except:\n",
    "            print(text_data[i])\n",
    "    return text_data"
   ]
  },
  {
   "attachments": {},
   "cell_type": "markdown",
   "metadata": {},
   "source": [
    "### Loading the model"
   ]
  },
  {
   "cell_type": "code",
   "execution_count": 3,
   "metadata": {},
   "outputs": [],
   "source": [
    "model_name = 'best_model'\n",
    "tokenizer = AutoTokenizer.from_pretrained(model_name)\n",
    "model = AutoModelForSequenceClassification.from_pretrained(model_name)"
   ]
  },
  {
   "attachments": {},
   "cell_type": "markdown",
   "metadata": {},
   "source": [
    "### Load and evaluate the test dataset"
   ]
  },
  {
   "cell_type": "code",
   "execution_count": 4,
   "metadata": {},
   "outputs": [],
   "source": [
    "test_text = [\"Apple magic not working today 🙄\", \"Wow the realization that I now never have\"]\n",
    "df_test = pd.read_csv('./test.En.csv')\n",
    "test_text = df_test['text'].to_list()\n",
    "test_labels = df_test['sarcastic'].to_list()"
   ]
  },
  {
   "cell_type": "code",
   "execution_count": 5,
   "metadata": {},
   "outputs": [],
   "source": [
    "\n",
    "test_text = clean_text_data(test_text)\n",
    "batch = tokenizer(test_text, padding=True, truncation=True, return_tensors=\"pt\") # if you don't use return_tensors then the batch will be a normal list and not a tensor"
   ]
  },
  {
   "cell_type": "code",
   "execution_count": 6,
   "metadata": {},
   "outputs": [
    {
     "name": "stdout",
     "output_type": "stream",
     "text": [
      "              precision    recall  f1-score   support\n",
      "\n",
      "           0       0.93      0.89      0.91      1200\n",
      "           1       0.48      0.60      0.54       200\n",
      "\n",
      "    accuracy                           0.85      1400\n",
      "   macro avg       0.71      0.75      0.72      1400\n",
      "weighted avg       0.87      0.85      0.86      1400\n",
      "\n"
     ]
    }
   ],
   "source": [
    "with torch.no_grad():\n",
    "    outputs = model(**batch) # use this only for pytorch in order to unpack the batch dictionary\n",
    "    # print(outputs)\n",
    "    predictions = F.softmax(outputs.logits, dim=1)\n",
    "    # print(predictions)\n",
    "    labels = torch.argmax(predictions, dim=1)\n",
    "    class_report = classification_report(test_labels, labels.tolist())\n",
    "    print(class_report)\n",
    "    labels = [model.config.id2label[label_id] for label_id in labels.tolist()]\n",
    "    # print(labels)"
   ]
  }
 ],
 "metadata": {
  "kernelspec": {
   "display_name": "Python 3",
   "language": "python",
   "name": "python3"
  },
  "language_info": {
   "codemirror_mode": {
    "name": "ipython",
    "version": 3
   },
   "file_extension": ".py",
   "mimetype": "text/x-python",
   "name": "python",
   "nbconvert_exporter": "python",
   "pygments_lexer": "ipython3",
   "version": "3.10.7"
  },
  "orig_nbformat": 4,
  "vscode": {
   "interpreter": {
    "hash": "09027da650f38ba7236ad064b542871ad48182107e90fa836c288587285bdc63"
   }
  }
 },
 "nbformat": 4,
 "nbformat_minor": 2
}
